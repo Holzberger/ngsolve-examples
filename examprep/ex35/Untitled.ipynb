{
 "cells": [
  {
   "cell_type": "markdown",
   "metadata": {},
   "source": [
    "# EX3.5"
   ]
  },
  {
   "cell_type": "markdown",
   "metadata": {},
   "source": [
    "## Weak form of NS equations"
   ]
  },
  {
   "cell_type": "markdown",
   "metadata": {},
   "source": [
    "Assume we given the NS-equations in weak form with $(u, p)\\in V \\times Q$:\n",
    "\\begin{align}\n",
    "    <\\frac{du}{dt}, v> + a(u, v) + c(u,u,v) + b(v,p) + b(u,q) + \\epsilon<p,q> = f(v) \\quad \\forall (v,q)\\in V \\times Q\n",
    "\\end{align}"
   ]
  },
  {
   "cell_type": "markdown",
   "metadata": {},
   "source": [
    "## Time discretisation by $\\theta$-scheme"
   ]
  },
  {
   "cell_type": "markdown",
   "metadata": {},
   "source": [
    "\\begin{align}\n",
    "    <\\frac{du^{n+1}}{dt}, v> + \\theta \\tau a(u^{n+1}, v) +& \\theta \\tau c(u^{n+1},u^{n+1},v) + \\tau b(v,p^{n+1}) + \\tau b(u^{n+1},q) =\\\\ \n",
    "    &\\tau f(v) + <\\frac{du^{n}}{dt}, v> -(1-\\theta) \\tau a(u^{n}, v) - (1-\\theta) \\tau c(u^{n},u^{n},v)\n",
    "\\end{align}\n",
    "\n",
    "Next assume $u_{i+1}^{n+1}=u_i^{n+1} + \\delta u_i^{n+1}$ and $p_{i+1}^{n+1}=p_i^{n+1} + \\delta p_i^{n+1}$ where $u^{n+1}_0 = u^{n+1}_K$ and  $p^{n+1}_0 = p^{n+1}_K$ for $K\\rightarrow \\infty$. \n",
    "Note further:\n",
    "\n",
    "\\begin{align}\n",
    "c(u^{n+1}_{i+1},u^{n+1}_{i+1},v) = c(u^{n+1}_{i+1},u^{n+1}_{i+1},v) + c(u^{n+1}_{i+1},u^{n+1}_{i+1},v) +c(u^{n+1}_{i+1},u^{n+1}_{i+1},v) +c(u^{n+1}_{i+1},u^{n+1}_{i+1},v)\n",
    "\\end{align}"
   ]
  },
  {
   "cell_type": "code",
   "execution_count": null,
   "metadata": {},
   "outputs": [],
   "source": []
  }
 ],
 "metadata": {
  "kernelspec": {
   "display_name": "Python 3",
   "language": "python",
   "name": "python3"
  },
  "language_info": {
   "codemirror_mode": {
    "name": "ipython",
    "version": 3
   },
   "file_extension": ".py",
   "mimetype": "text/x-python",
   "name": "python",
   "nbconvert_exporter": "python",
   "pygments_lexer": "ipython3",
   "version": "3.6.9"
  }
 },
 "nbformat": 4,
 "nbformat_minor": 4
}
